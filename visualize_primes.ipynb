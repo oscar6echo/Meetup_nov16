{
 "cells": [
  {
   "cell_type": "code",
   "execution_count": null,
   "metadata": {
    "collapsed": false
   },
   "outputs": [],
   "source": [
    "## Works in nbviewer as independent from backend\n",
    "## button in cell below in notebook and in nav bar in nbviewer\n",
    "\n",
    "from code_toggle import toggle_code_cells\n",
    "toggle_code_cells(init_code_shown=True)"
   ]
  },
  {
   "cell_type": "code",
   "execution_count": null,
   "metadata": {
    "collapsed": false
   },
   "outputs": [],
   "source": [
    "import os\n",
    "from IPython.core.display import display, HTML, Javascript\n",
    "\n",
    "with open(os.path.join('scripts', 'visual_prime_decomposition.js'), 'r') as f:\n",
    "    js=f.read()\n",
    "    \n",
    "with open(os.path.join('scripts', 'visual_prime_decomposition.html'), 'r') as f:\n",
    "    html = f.read()"
   ]
  },
  {
   "cell_type": "markdown",
   "metadata": {},
   "source": [
    "## Visual Prime Decomposition"
   ]
  },
  {
   "cell_type": "code",
   "execution_count": null,
   "metadata": {
    "collapsed": false
   },
   "outputs": [],
   "source": [
    "display(Javascript(js))\n",
    "display(HTML(html))"
   ]
  }
 ],
 "metadata": {
  "kernelspec": {
   "display_name": "Python 3",
   "language": "python",
   "name": "python3"
  },
  "language_info": {
   "codemirror_mode": {
    "name": "ipython",
    "version": 3
   },
   "file_extension": ".py",
   "mimetype": "text/x-python",
   "name": "python",
   "nbconvert_exporter": "python",
   "pygments_lexer": "ipython3",
   "version": "3.5.2"
  }
 },
 "nbformat": 4,
 "nbformat_minor": 0
}
